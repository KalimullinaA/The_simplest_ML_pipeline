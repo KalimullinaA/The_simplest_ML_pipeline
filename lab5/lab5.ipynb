{
  "nbformat": 4,
  "nbformat_minor": 0,
  "metadata": {
    "colab": {
      "provenance": []
    },
    "kernelspec": {
      "name": "python3",
      "display_name": "Python 3"
    },
    "language_info": {
      "name": "python"
    }
  },
  "cells": [
    {
      "cell_type": "code",
      "execution_count": 1,
      "metadata": {
        "colab": {
          "base_uri": "https://localhost:8080/"
        },
        "id": "9j2CUk8V9DR3",
        "outputId": "e312ac3d-f7ae-43b8-ebee-8a7b774ab57c"
      },
      "outputs": [
        {
          "output_type": "stream",
          "name": "stdout",
          "text": [
            "Writing generate_data.py\n"
          ]
        }
      ],
      "source": [
        "%%writefile generate_data.py\n",
        "\n",
        "import numpy as np\n",
        "import pandas as pd\n",
        "\n",
        "STATE = 1337\n",
        "COUNT = 500\n",
        "EMISSIONS_COUNT = 120\n",
        "MIN = 0\n",
        "MAX = 1000\n",
        "\n",
        "random_state = np.random.RandomState(STATE)\n",
        "np.random.seed(STATE)\n",
        "\n",
        "a = 20 * np.random.randn(COUNT) + 100\n",
        "b = 30 * np.random.randn(COUNT) + 200\n",
        "y = 2 * a + 8 * b + 10 * np.random.randn(COUNT) + 30\n",
        "data = pd.DataFrame(list(zip(a, b, y)), columns =['a', 'b', 'y'])\n",
        "data = data.round(0)\n",
        "data.to_csv('data-1.csv', index=False)\n",
        "\n",
        "a = 20 * np.random.randn(COUNT) + 100\n",
        "b = 30 * np.random.randn(COUNT) + 200\n",
        "y = 2 * a + 8 * b + 10 * np.random.randn(COUNT) + 30\n",
        "dataEmitted = pd.DataFrame(list(zip(a, b, y)), columns =['a', 'b', 'y'])\n",
        "dataEmitted = dataEmitted.round(0)\n",
        "dataEmitted['b'][int(COUNT / 2 - EMISSIONS_COUNT):int(COUNT / 2 + EMISSIONS_COUNT)] *= 2\n",
        "dataEmitted.to_csv('data-2.csv', index=False)\n",
        "\n",
        "a = 15 * np.random.randn(COUNT) + 105\n",
        "b = 33 * np.random.randn(COUNT) + 295\n",
        "y = 2.4 * a + 7.6 * b + 10 * np.random.randn(COUNT) + 20\n",
        "data = pd.DataFrame(list(zip(a, b, y)), columns =['a', 'b', 'y'])\n",
        "data = data.round(0)\n",
        "data.to_csv('data-3.csv', index=False)"
      ]
    },
    {
      "cell_type": "code",
      "source": [
        "%%writefile create_model.py\n",
        "\n",
        "import pickle\n",
        "import pandas as pd\n",
        "from sklearn.linear_model import Ridge\n",
        "\n",
        "data = pd.read_csv('data-1.csv')\n",
        "clf = Ridge()\n",
        "clf.fit(data[['a', 'b']], data['y'])\n",
        "\n",
        "pickle.dump(clf, open('model.pckl', 'wb'))"
      ],
      "metadata": {
        "colab": {
          "base_uri": "https://localhost:8080/"
        },
        "id": "i1oJUEGy9HXs",
        "outputId": "82aebaac-419d-4638-de07-799655e27d97"
      },
      "execution_count": 2,
      "outputs": [
        {
          "output_type": "stream",
          "name": "stdout",
          "text": [
            "Writing create_model.py\n"
          ]
        }
      ]
    },
    {
      "cell_type": "code",
      "source": [
        "%%writefile test_model.py\n",
        "\n",
        "import pickle\n",
        "import pandas as pd\n",
        "from sklearn.metrics import r2_score\n",
        "\n",
        "BORDER = .85\n",
        "\n",
        "def get_model_score(data_path: str, model_path='model.pckl'):\n",
        "  model = pickle.load(open(model_path, 'rb'))\n",
        "  data = pd.read_csv(data_path)\n",
        "  predicted = model.predict(data[['a', 'b']])\n",
        "  return r2_score(data['y'], predicted)\n",
        "\n",
        "def test_model_1():\n",
        "    assert get_model_score('data-1.csv') > BORDER\n",
        "\n",
        "def test_model_2():\n",
        "    assert get_model_score('data-2.csv') > BORDER\n",
        "\n",
        "def test_model_3():\n",
        "    assert get_model_score('data-3.csv') > BORDER"
      ],
      "metadata": {
        "colab": {
          "base_uri": "https://localhost:8080/"
        },
        "id": "nL5R9cXq9LiP",
        "outputId": "7f1afc10-e4ea-479a-9224-977e45afee8a"
      },
      "execution_count": 3,
      "outputs": [
        {
          "output_type": "stream",
          "name": "stdout",
          "text": [
            "Writing test_model.py\n"
          ]
        }
      ]
    },
    {
      "cell_type": "code",
      "source": [
        "!\"ls\""
      ],
      "metadata": {
        "colab": {
          "base_uri": "https://localhost:8080/"
        },
        "id": "smQ_qdLD9O_b",
        "outputId": "2c8cc799-9051-4a91-c3a4-4e3a3bcb44a3"
      },
      "execution_count": 6,
      "outputs": [
        {
          "output_type": "stream",
          "name": "stdout",
          "text": [
            "create_model.py  data-2.csv  generate_data.py  __pycache__  test_model.py\n",
            "data-1.csv\t data-3.csv  model.pckl        sample_data\n"
          ]
        }
      ]
    },
    {
      "cell_type": "code",
      "source": [
        "%run -i \"generate_data.py\"\n",
        "%run -i \"create_model.py\"\n",
        "!\"pytest\""
      ],
      "metadata": {
        "id": "m0D1rPzT_ek_"
      },
      "execution_count": null,
      "outputs": []
    }
  ]
}